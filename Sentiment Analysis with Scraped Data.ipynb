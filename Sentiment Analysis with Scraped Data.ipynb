{
 "cells": [
  {
   "cell_type": "code",
   "execution_count": 1,
   "metadata": {},
   "outputs": [],
   "source": [
    "import pandas as pd"
   ]
  },
  {
   "cell_type": "code",
   "execution_count": 2,
   "metadata": {},
   "outputs": [],
   "source": [
    "positives = pd.read_csv('positive_reviews.csv', encoding='utf-8')"
   ]
  },
  {
   "cell_type": "code",
   "execution_count": 3,
   "metadata": {},
   "outputs": [],
   "source": [
    "negatives = pd.read_csv('negative_reviews.csv', encoding='utf-8')"
   ]
  },
  {
   "cell_type": "code",
   "execution_count": 4,
   "metadata": {},
   "outputs": [
    {
     "data": {
      "text/html": [
       "<div>\n",
       "<style scoped>\n",
       "    .dataframe tbody tr th:only-of-type {\n",
       "        vertical-align: middle;\n",
       "    }\n",
       "\n",
       "    .dataframe tbody tr th {\n",
       "        vertical-align: top;\n",
       "    }\n",
       "\n",
       "    .dataframe thead th {\n",
       "        text-align: right;\n",
       "    }\n",
       "</style>\n",
       "<table border=\"1\" class=\"dataframe\">\n",
       "  <thead>\n",
       "    <tr style=\"text-align: right;\">\n",
       "      <th></th>\n",
       "      <th>Reviewer</th>\n",
       "      <th>Rating</th>\n",
       "      <th>Title</th>\n",
       "      <th>Body</th>\n",
       "    </tr>\n",
       "  </thead>\n",
       "  <tbody>\n",
       "    <tr>\n",
       "      <th>0</th>\n",
       "      <td>Sadie Parker</td>\n",
       "      <td>VINE</td>\n",
       "      <td>a real opinion</td>\n",
       "      <td>I could sit here and write all about the spe...</td>\n",
       "    </tr>\n",
       "    <tr>\n",
       "      <th>1</th>\n",
       "      <td>David Fisher</td>\n",
       "      <td>5.0</td>\n",
       "      <td>This is NOT a Budget Laptop!</td>\n",
       "      <td>This is the best laptop deal you can get, fu...</td>\n",
       "    </tr>\n",
       "    <tr>\n",
       "      <th>2</th>\n",
       "      <td>Jason</td>\n",
       "      <td>VINE</td>\n",
       "      <td>Good choice for basic computing needs</td>\n",
       "      <td>A very reasonably priced laptop for basic co...</td>\n",
       "    </tr>\n",
       "    <tr>\n",
       "      <th>3</th>\n",
       "      <td>H. C. L. Brian</td>\n",
       "      <td>5.0</td>\n",
       "      <td>Won't be wrong at this price</td>\n",
       "      <td>A few months after the purchase....It is sti...</td>\n",
       "    </tr>\n",
       "    <tr>\n",
       "      <th>4</th>\n",
       "      <td>Mindy</td>\n",
       "      <td>VINE</td>\n",
       "      <td>Perfect for kids/teens and seniors</td>\n",
       "      <td>I got this for my ten year old son because i...</td>\n",
       "    </tr>\n",
       "    <tr>\n",
       "      <th>...</th>\n",
       "      <td>...</td>\n",
       "      <td>...</td>\n",
       "      <td>...</td>\n",
       "      <td>...</td>\n",
       "    </tr>\n",
       "    <tr>\n",
       "      <th>985</th>\n",
       "      <td>a.jm</td>\n",
       "      <td>5.0</td>\n",
       "      <td>One of the best values out there. Full linux s...</td>\n",
       "      <td>*UPDATE : The labtop completely died near en...</td>\n",
       "    </tr>\n",
       "    <tr>\n",
       "      <th>986</th>\n",
       "      <td>Callie</td>\n",
       "      <td>5.0</td>\n",
       "      <td>Games</td>\n",
       "      <td>It runs amazing</td>\n",
       "    </tr>\n",
       "    <tr>\n",
       "      <th>987</th>\n",
       "      <td>Sidd Finch</td>\n",
       "      <td>5.0</td>\n",
       "      <td>Excellent value! Just needs a couple inexpensi...</td>\n",
       "      <td>Got this on sale for $270, which is an absol...</td>\n",
       "    </tr>\n",
       "    <tr>\n",
       "      <th>988</th>\n",
       "      <td>Raging45</td>\n",
       "      <td>5.0</td>\n",
       "      <td>Acer 5 Slim, review, upgrades, and Windows 10 ...</td>\n",
       "      <td>The Acer 5 slim is sleek, beautiful, durable...</td>\n",
       "    </tr>\n",
       "    <tr>\n",
       "      <th>989</th>\n",
       "      <td>Chris Rosewill</td>\n",
       "      <td>5.0</td>\n",
       "      <td>Fantastic Deal for the Price</td>\n",
       "      <td>This laptop is a fantastic deal for the pric...</td>\n",
       "    </tr>\n",
       "  </tbody>\n",
       "</table>\n",
       "<p>990 rows × 4 columns</p>\n",
       "</div>"
      ],
      "text/plain": [
       "           Reviewer Rating                                              Title  \\\n",
       "0      Sadie Parker   VINE                                     a real opinion   \n",
       "1      David Fisher    5.0                       This is NOT a Budget Laptop!   \n",
       "2             Jason   VINE              Good choice for basic computing needs   \n",
       "3    H. C. L. Brian    5.0                       Won't be wrong at this price   \n",
       "4             Mindy   VINE                 Perfect for kids/teens and seniors   \n",
       "..              ...    ...                                                ...   \n",
       "985            a.jm    5.0  One of the best values out there. Full linux s...   \n",
       "986          Callie    5.0                                              Games   \n",
       "987      Sidd Finch    5.0  Excellent value! Just needs a couple inexpensi...   \n",
       "988        Raging45    5.0  Acer 5 Slim, review, upgrades, and Windows 10 ...   \n",
       "989  Chris Rosewill    5.0                       Fantastic Deal for the Price   \n",
       "\n",
       "                                                  Body  \n",
       "0      I could sit here and write all about the spe...  \n",
       "1      This is the best laptop deal you can get, fu...  \n",
       "2      A very reasonably priced laptop for basic co...  \n",
       "3      A few months after the purchase....It is sti...  \n",
       "4      I got this for my ten year old son because i...  \n",
       "..                                                 ...  \n",
       "985    *UPDATE : The labtop completely died near en...  \n",
       "986                                    It runs amazing  \n",
       "987    Got this on sale for $270, which is an absol...  \n",
       "988    The Acer 5 slim is sleek, beautiful, durable...  \n",
       "989    This laptop is a fantastic deal for the pric...  \n",
       "\n",
       "[990 rows x 4 columns]"
      ]
     },
     "execution_count": 4,
     "metadata": {},
     "output_type": "execute_result"
    }
   ],
   "source": [
    "positives"
   ]
  },
  {
   "cell_type": "code",
   "execution_count": 5,
   "metadata": {},
   "outputs": [
    {
     "data": {
      "text/plain": [
       "<bound method Series.unique of 0      VINE\n",
       "1       5.0\n",
       "2      VINE\n",
       "3       5.0\n",
       "4      VINE\n",
       "       ... \n",
       "985     5.0\n",
       "986     5.0\n",
       "987     5.0\n",
       "988     5.0\n",
       "989     5.0\n",
       "Name: Rating, Length: 990, dtype: object>"
      ]
     },
     "execution_count": 5,
     "metadata": {},
     "output_type": "execute_result"
    }
   ],
   "source": [
    "positives['Rating'].unique"
   ]
  },
  {
   "cell_type": "code",
   "execution_count": 6,
   "metadata": {},
   "outputs": [],
   "source": [
    "# The model kept returning error upon fitting for places where positives['Rating'] == 'VINE' and where positives['RAting']==5.0\n",
    "#I decided to change both to 4.0"
   ]
  },
  {
   "cell_type": "code",
   "execution_count": 7,
   "metadata": {},
   "outputs": [],
   "source": [
    "def convertValue(state):\n",
    "    if state == 'VINE':\n",
    "        return 4.0\n",
    "    else:\n",
    "        return state"
   ]
  },
  {
   "cell_type": "code",
   "execution_count": 8,
   "metadata": {},
   "outputs": [],
   "source": [
    "positives['Rating'] = positives['Rating'].apply(convertValue)"
   ]
  },
  {
   "cell_type": "code",
   "execution_count": 9,
   "metadata": {},
   "outputs": [],
   "source": [
    "positives['Rating'] = positives['Rating'].astype(float)"
   ]
  },
  {
   "cell_type": "code",
   "execution_count": 10,
   "metadata": {},
   "outputs": [
    {
     "data": {
      "text/plain": [
       "0      4.0\n",
       "1      5.0\n",
       "2      4.0\n",
       "3      5.0\n",
       "4      4.0\n",
       "      ... \n",
       "985    5.0\n",
       "986    5.0\n",
       "987    5.0\n",
       "988    5.0\n",
       "989    5.0\n",
       "Name: Rating, Length: 990, dtype: float64"
      ]
     },
     "execution_count": 10,
     "metadata": {},
     "output_type": "execute_result"
    }
   ],
   "source": [
    "positives['Rating']"
   ]
  },
  {
   "cell_type": "code",
   "execution_count": 11,
   "metadata": {},
   "outputs": [],
   "source": [
    "def changeReview (value):\n",
    "    if value == 5.0:\n",
    "        return 4.0\n",
    "    elif value == 4.0:\n",
    "        return 4.0\n",
    "    else:\n",
    "        value"
   ]
  },
  {
   "cell_type": "code",
   "execution_count": 12,
   "metadata": {},
   "outputs": [],
   "source": [
    "positives['Rating'] = positives['Rating'].apply(changeReview)"
   ]
  },
  {
   "cell_type": "code",
   "execution_count": 13,
   "metadata": {},
   "outputs": [
    {
     "data": {
      "text/plain": [
       "0      4.0\n",
       "1      4.0\n",
       "2      4.0\n",
       "3      4.0\n",
       "4      4.0\n",
       "      ... \n",
       "985    4.0\n",
       "986    4.0\n",
       "987    4.0\n",
       "988    4.0\n",
       "989    4.0\n",
       "Name: Rating, Length: 990, dtype: float64"
      ]
     },
     "execution_count": 13,
     "metadata": {},
     "output_type": "execute_result"
    }
   ],
   "source": [
    "positives['Rating'].astype(float)"
   ]
  },
  {
   "cell_type": "code",
   "execution_count": 14,
   "metadata": {},
   "outputs": [
    {
     "data": {
      "text/plain": [
       "<bound method Series.unique of 0                                         a real opinion\n",
       "1                           This is NOT a Budget Laptop!\n",
       "2                  Good choice for basic computing needs\n",
       "3                           Won't be wrong at this price\n",
       "4                     Perfect for kids/teens and seniors\n",
       "                             ...                        \n",
       "985    One of the best values out there. Full linux s...\n",
       "986                                                Games\n",
       "987    Excellent value! Just needs a couple inexpensi...\n",
       "988    Acer 5 Slim, review, upgrades, and Windows 10 ...\n",
       "989                         Fantastic Deal for the Price\n",
       "Name: Title, Length: 990, dtype: object>"
      ]
     },
     "execution_count": 14,
     "metadata": {},
     "output_type": "execute_result"
    }
   ],
   "source": [
    "positives['Title'].unique"
   ]
  },
  {
   "cell_type": "code",
   "execution_count": 15,
   "metadata": {},
   "outputs": [
    {
     "data": {
      "text/plain": [
       "<bound method Series.unique of 0     2.0\n",
       "1     1.0\n",
       "2     1.0\n",
       "3     2.0\n",
       "4     1.0\n",
       "     ... \n",
       "82    2.0\n",
       "83    1.0\n",
       "84    3.0\n",
       "85    3.0\n",
       "86    1.0\n",
       "Name: Rating, Length: 87, dtype: float64>"
      ]
     },
     "execution_count": 15,
     "metadata": {},
     "output_type": "execute_result"
    }
   ],
   "source": [
    "negatives['Rating'].unique"
   ]
  },
  {
   "cell_type": "code",
   "execution_count": 16,
   "metadata": {},
   "outputs": [
    {
     "data": {
      "text/plain": [
       "<bound method Series.unique of 0     Audio-out jack doesn't work and the touch-pad ...\n",
       "1     New Computer With 2 Major Problems - Acer Resp...\n",
       "2     Defective Aspire 5 (Webcam), Extremely bad cus...\n",
       "3                                    This one failed me\n",
       "4                                 What a piece of crap.\n",
       "                            ...                        \n",
       "82                  Day 1: Touchpad starting to pop out\n",
       "83                                   Junk- painful junk\n",
       "84                                       Cheap finishes\n",
       "85                  Comes with Non-Genuine Windows 10 S\n",
       "86    Crashed 2x brand new acer support is 15-20 day...\n",
       "Name: Title, Length: 87, dtype: object>"
      ]
     },
     "execution_count": 16,
     "metadata": {},
     "output_type": "execute_result"
    }
   ],
   "source": [
    "negatives['Title'].unique"
   ]
  },
  {
   "cell_type": "code",
   "execution_count": 17,
   "metadata": {},
   "outputs": [],
   "source": [
    "df = pd.concat([positives,negatives], axis=0, ignore_index=True)"
   ]
  },
  {
   "cell_type": "code",
   "execution_count": 18,
   "metadata": {},
   "outputs": [
    {
     "data": {
      "text/html": [
       "<div>\n",
       "<style scoped>\n",
       "    .dataframe tbody tr th:only-of-type {\n",
       "        vertical-align: middle;\n",
       "    }\n",
       "\n",
       "    .dataframe tbody tr th {\n",
       "        vertical-align: top;\n",
       "    }\n",
       "\n",
       "    .dataframe thead th {\n",
       "        text-align: right;\n",
       "    }\n",
       "</style>\n",
       "<table border=\"1\" class=\"dataframe\">\n",
       "  <thead>\n",
       "    <tr style=\"text-align: right;\">\n",
       "      <th></th>\n",
       "      <th>Reviewer</th>\n",
       "      <th>Rating</th>\n",
       "      <th>Title</th>\n",
       "      <th>Body</th>\n",
       "    </tr>\n",
       "  </thead>\n",
       "  <tbody>\n",
       "    <tr>\n",
       "      <th>0</th>\n",
       "      <td>Sadie Parker</td>\n",
       "      <td>4.0</td>\n",
       "      <td>a real opinion</td>\n",
       "      <td>I could sit here and write all about the spe...</td>\n",
       "    </tr>\n",
       "    <tr>\n",
       "      <th>1</th>\n",
       "      <td>David Fisher</td>\n",
       "      <td>4.0</td>\n",
       "      <td>This is NOT a Budget Laptop!</td>\n",
       "      <td>This is the best laptop deal you can get, fu...</td>\n",
       "    </tr>\n",
       "    <tr>\n",
       "      <th>2</th>\n",
       "      <td>Jason</td>\n",
       "      <td>4.0</td>\n",
       "      <td>Good choice for basic computing needs</td>\n",
       "      <td>A very reasonably priced laptop for basic co...</td>\n",
       "    </tr>\n",
       "    <tr>\n",
       "      <th>3</th>\n",
       "      <td>H. C. L. Brian</td>\n",
       "      <td>4.0</td>\n",
       "      <td>Won't be wrong at this price</td>\n",
       "      <td>A few months after the purchase....It is sti...</td>\n",
       "    </tr>\n",
       "    <tr>\n",
       "      <th>4</th>\n",
       "      <td>Mindy</td>\n",
       "      <td>4.0</td>\n",
       "      <td>Perfect for kids/teens and seniors</td>\n",
       "      <td>I got this for my ten year old son because i...</td>\n",
       "    </tr>\n",
       "    <tr>\n",
       "      <th>...</th>\n",
       "      <td>...</td>\n",
       "      <td>...</td>\n",
       "      <td>...</td>\n",
       "      <td>...</td>\n",
       "    </tr>\n",
       "    <tr>\n",
       "      <th>1072</th>\n",
       "      <td>Jon</td>\n",
       "      <td>2.0</td>\n",
       "      <td>Day 1: Touchpad starting to pop out</td>\n",
       "      <td>I fired this thing up one evening and I was ...</td>\n",
       "    </tr>\n",
       "    <tr>\n",
       "      <th>1073</th>\n",
       "      <td>Hilton Keith</td>\n",
       "      <td>1.0</td>\n",
       "      <td>Junk- painful junk</td>\n",
       "      <td>When it arrived, I spent a couple of hours s...</td>\n",
       "    </tr>\n",
       "    <tr>\n",
       "      <th>1074</th>\n",
       "      <td>ATLshopper</td>\n",
       "      <td>3.0</td>\n",
       "      <td>Cheap finishes</td>\n",
       "      <td>I needed a laptop quick and for a low price....</td>\n",
       "    </tr>\n",
       "    <tr>\n",
       "      <th>1075</th>\n",
       "      <td>Chris Neuman</td>\n",
       "      <td>3.0</td>\n",
       "      <td>Comes with Non-Genuine Windows 10 S</td>\n",
       "      <td>The hardware is nice. I bought this for my s...</td>\n",
       "    </tr>\n",
       "    <tr>\n",
       "      <th>1076</th>\n",
       "      <td>Nicole V</td>\n",
       "      <td>1.0</td>\n",
       "      <td>Crashed 2x brand new acer support is 15-20 day...</td>\n",
       "      <td>Got this laptop for work at the beginning of...</td>\n",
       "    </tr>\n",
       "  </tbody>\n",
       "</table>\n",
       "<p>1077 rows × 4 columns</p>\n",
       "</div>"
      ],
      "text/plain": [
       "            Reviewer  Rating  \\\n",
       "0       Sadie Parker     4.0   \n",
       "1       David Fisher     4.0   \n",
       "2              Jason     4.0   \n",
       "3     H. C. L. Brian     4.0   \n",
       "4              Mindy     4.0   \n",
       "...              ...     ...   \n",
       "1072             Jon     2.0   \n",
       "1073    Hilton Keith     1.0   \n",
       "1074      ATLshopper     3.0   \n",
       "1075    Chris Neuman     3.0   \n",
       "1076        Nicole V     1.0   \n",
       "\n",
       "                                                  Title  \\\n",
       "0                                        a real opinion   \n",
       "1                          This is NOT a Budget Laptop!   \n",
       "2                 Good choice for basic computing needs   \n",
       "3                          Won't be wrong at this price   \n",
       "4                    Perfect for kids/teens and seniors   \n",
       "...                                                 ...   \n",
       "1072                Day 1: Touchpad starting to pop out   \n",
       "1073                                 Junk- painful junk   \n",
       "1074                                     Cheap finishes   \n",
       "1075                Comes with Non-Genuine Windows 10 S   \n",
       "1076  Crashed 2x brand new acer support is 15-20 day...   \n",
       "\n",
       "                                                   Body  \n",
       "0       I could sit here and write all about the spe...  \n",
       "1       This is the best laptop deal you can get, fu...  \n",
       "2       A very reasonably priced laptop for basic co...  \n",
       "3       A few months after the purchase....It is sti...  \n",
       "4       I got this for my ten year old son because i...  \n",
       "...                                                 ...  \n",
       "1072    I fired this thing up one evening and I was ...  \n",
       "1073    When it arrived, I spent a couple of hours s...  \n",
       "1074    I needed a laptop quick and for a low price....  \n",
       "1075    The hardware is nice. I bought this for my s...  \n",
       "1076    Got this laptop for work at the beginning of...  \n",
       "\n",
       "[1077 rows x 4 columns]"
      ]
     },
     "execution_count": 18,
     "metadata": {},
     "output_type": "execute_result"
    }
   ],
   "source": [
    "df"
   ]
  },
  {
   "cell_type": "code",
   "execution_count": 19,
   "metadata": {},
   "outputs": [],
   "source": [
    "#shuffle the data "
   ]
  },
  {
   "cell_type": "code",
   "execution_count": 20,
   "metadata": {},
   "outputs": [],
   "source": [
    "from sklearn.utils import shuffle"
   ]
  },
  {
   "cell_type": "code",
   "execution_count": 21,
   "metadata": {},
   "outputs": [],
   "source": [
    "df = shuffle(df)"
   ]
  },
  {
   "cell_type": "code",
   "execution_count": 22,
   "metadata": {},
   "outputs": [
    {
     "data": {
      "text/plain": [
       "<bound method IndexOpsMixin.nunique of 954                   Perfect for kids/teens and seniors\n",
       "213                         Won't be wrong at this price\n",
       "858    Acer 5 Slim, review, upgrades, and Windows 10 ...\n",
       "71                          This is NOT a Budget Laptop!\n",
       "632                Good choice for basic computing needs\n",
       "                             ...                        \n",
       "574                   Perfect for kids/teens and seniors\n",
       "216                                                Games\n",
       "234                   Perfect for kids/teens and seniors\n",
       "370                                       a real opinion\n",
       "339                         Fantastic Deal for the Price\n",
       "Name: Title, Length: 1077, dtype: object>"
      ]
     },
     "execution_count": 22,
     "metadata": {},
     "output_type": "execute_result"
    }
   ],
   "source": [
    "df['Title'].nunique"
   ]
  },
  {
   "cell_type": "code",
   "execution_count": 23,
   "metadata": {},
   "outputs": [],
   "source": [
    "#let's use the title column as features and the rating column as labels so that the model will use the title to predict the rating\n"
   ]
  },
  {
   "cell_type": "code",
   "execution_count": 24,
   "metadata": {},
   "outputs": [],
   "source": [
    "features = df['Title']"
   ]
  },
  {
   "cell_type": "code",
   "execution_count": 25,
   "metadata": {},
   "outputs": [],
   "source": [
    "labels = df['Rating'].astype(float)"
   ]
  },
  {
   "cell_type": "code",
   "execution_count": 26,
   "metadata": {},
   "outputs": [
    {
     "data": {
      "text/plain": [
       "954                   Perfect for kids/teens and seniors\n",
       "213                         Won't be wrong at this price\n",
       "858    Acer 5 Slim, review, upgrades, and Windows 10 ...\n",
       "71                          This is NOT a Budget Laptop!\n",
       "632                Good choice for basic computing needs\n",
       "                             ...                        \n",
       "574                   Perfect for kids/teens and seniors\n",
       "216                                                Games\n",
       "234                   Perfect for kids/teens and seniors\n",
       "370                                       a real opinion\n",
       "339                         Fantastic Deal for the Price\n",
       "Name: Title, Length: 1077, dtype: object"
      ]
     },
     "execution_count": 26,
     "metadata": {},
     "output_type": "execute_result"
    }
   ],
   "source": [
    "features"
   ]
  },
  {
   "cell_type": "code",
   "execution_count": 27,
   "metadata": {},
   "outputs": [
    {
     "data": {
      "text/plain": [
       "954    4.0\n",
       "213    4.0\n",
       "858    4.0\n",
       "71     4.0\n",
       "632    4.0\n",
       "      ... \n",
       "574    4.0\n",
       "216    4.0\n",
       "234    4.0\n",
       "370    4.0\n",
       "339    4.0\n",
       "Name: Rating, Length: 1077, dtype: float64"
      ]
     },
     "execution_count": 27,
     "metadata": {},
     "output_type": "execute_result"
    }
   ],
   "source": [
    "labels"
   ]
  },
  {
   "cell_type": "code",
   "execution_count": 28,
   "metadata": {},
   "outputs": [],
   "source": [
    "#let's change the values of the labels so that the model does not think they are continuous values"
   ]
  },
  {
   "cell_type": "code",
   "execution_count": 29,
   "metadata": {},
   "outputs": [
    {
     "data": {
      "text/plain": [
       "[4.0, 4.0, 4.0, 4.0, 4.0, ..., 4.0, 4.0, 4.0, 4.0, 4.0]\n",
       "Length: 1077\n",
       "Categories (4, float64): [1.0, 2.0, 3.0, 4.0]"
      ]
     },
     "execution_count": 29,
     "metadata": {},
     "output_type": "execute_result"
    }
   ],
   "source": [
    "pd.Categorical(labels)"
   ]
  },
  {
   "cell_type": "code",
   "execution_count": 30,
   "metadata": {},
   "outputs": [],
   "source": [
    "#let's split our data into training and testing portions"
   ]
  },
  {
   "cell_type": "code",
   "execution_count": 31,
   "metadata": {},
   "outputs": [],
   "source": [
    "training_size = 851"
   ]
  },
  {
   "cell_type": "code",
   "execution_count": 32,
   "metadata": {},
   "outputs": [],
   "source": [
    "training_features = features[:training_size]"
   ]
  },
  {
   "cell_type": "code",
   "execution_count": 33,
   "metadata": {},
   "outputs": [],
   "source": [
    "testing_features = features[training_size:]"
   ]
  },
  {
   "cell_type": "code",
   "execution_count": 34,
   "metadata": {},
   "outputs": [],
   "source": [
    "training_labels = labels[:training_size]"
   ]
  },
  {
   "cell_type": "code",
   "execution_count": 35,
   "metadata": {},
   "outputs": [],
   "source": [
    "testing_labels = labels[training_size:]"
   ]
  },
  {
   "cell_type": "code",
   "execution_count": 36,
   "metadata": {},
   "outputs": [
    {
     "data": {
      "text/plain": [
       "(851,)"
      ]
     },
     "execution_count": 36,
     "metadata": {},
     "output_type": "execute_result"
    }
   ],
   "source": [
    "training_features.shape"
   ]
  },
  {
   "cell_type": "code",
   "execution_count": 37,
   "metadata": {},
   "outputs": [
    {
     "data": {
      "text/plain": [
       "(851,)"
      ]
     },
     "execution_count": 37,
     "metadata": {},
     "output_type": "execute_result"
    }
   ],
   "source": [
    "training_labels.shape"
   ]
  },
  {
   "cell_type": "code",
   "execution_count": 38,
   "metadata": {},
   "outputs": [
    {
     "data": {
      "text/plain": [
       "(226,)"
      ]
     },
     "execution_count": 38,
     "metadata": {},
     "output_type": "execute_result"
    }
   ],
   "source": [
    "testing_features.shape"
   ]
  },
  {
   "cell_type": "code",
   "execution_count": 39,
   "metadata": {},
   "outputs": [
    {
     "data": {
      "text/plain": [
       "(226,)"
      ]
     },
     "execution_count": 39,
     "metadata": {},
     "output_type": "execute_result"
    }
   ],
   "source": [
    "testing_labels.shape"
   ]
  },
  {
   "cell_type": "code",
   "execution_count": 40,
   "metadata": {},
   "outputs": [],
   "source": [
    "#process the data for the model"
   ]
  },
  {
   "cell_type": "code",
   "execution_count": 41,
   "metadata": {},
   "outputs": [],
   "source": [
    "import tensorflow as tf"
   ]
  },
  {
   "cell_type": "code",
   "execution_count": 42,
   "metadata": {},
   "outputs": [],
   "source": [
    "from tensorflow import keras"
   ]
  },
  {
   "cell_type": "code",
   "execution_count": 43,
   "metadata": {},
   "outputs": [],
   "source": [
    "from tensorflow.keras.preprocessing.text import Tokenizer\n",
    "from tensorflow.keras.preprocessing.sequence import pad_sequences\n",
    "from tensorflow.keras.callbacks import EarlyStopping"
   ]
  },
  {
   "cell_type": "code",
   "execution_count": 44,
   "metadata": {},
   "outputs": [],
   "source": [
    "earlystop = EarlyStopping(monitor='val_loss', patience= 3)"
   ]
  },
  {
   "cell_type": "code",
   "execution_count": 45,
   "metadata": {},
   "outputs": [],
   "source": [
    "tokenizer = Tokenizer(num_words= 276, oov_token='<OOV>')"
   ]
  },
  {
   "cell_type": "code",
   "execution_count": 46,
   "metadata": {},
   "outputs": [],
   "source": [
    "tokenizer.fit_on_texts(training_features)"
   ]
  },
  {
   "cell_type": "code",
   "execution_count": 47,
   "metadata": {},
   "outputs": [],
   "source": [
    "word_index = tokenizer.word_index"
   ]
  },
  {
   "cell_type": "code",
   "execution_count": 48,
   "metadata": {},
   "outputs": [
    {
     "data": {
      "text/plain": [
       "263"
      ]
     },
     "execution_count": 48,
     "metadata": {},
     "output_type": "execute_result"
    }
   ],
   "source": [
    "len(word_index)"
   ]
  },
  {
   "cell_type": "code",
   "execution_count": 49,
   "metadata": {},
   "outputs": [],
   "source": [
    "training_sequences = tokenizer.texts_to_sequences(training_features)"
   ]
  },
  {
   "cell_type": "code",
   "execution_count": 50,
   "metadata": {},
   "outputs": [],
   "source": [
    "training_padded = pad_sequences(training_sequences, padding='post')"
   ]
  },
  {
   "cell_type": "code",
   "execution_count": 51,
   "metadata": {},
   "outputs": [],
   "source": [
    "testing_sequences = tokenizer.texts_to_sequences(testing_features)"
   ]
  },
  {
   "cell_type": "code",
   "execution_count": 52,
   "metadata": {},
   "outputs": [],
   "source": [
    "testing_padded = pad_sequences(testing_sequences, padding='post')"
   ]
  },
  {
   "cell_type": "code",
   "execution_count": 53,
   "metadata": {},
   "outputs": [
    {
     "data": {
      "text/plain": [
       "(851, 17)"
      ]
     },
     "execution_count": 53,
     "metadata": {},
     "output_type": "execute_result"
    }
   ],
   "source": [
    "training_padded.shape"
   ]
  },
  {
   "cell_type": "code",
   "execution_count": null,
   "metadata": {},
   "outputs": [],
   "source": []
  },
  {
   "cell_type": "code",
   "execution_count": 54,
   "metadata": {},
   "outputs": [],
   "source": [
    "#building the model"
   ]
  },
  {
   "cell_type": "code",
   "execution_count": 55,
   "metadata": {},
   "outputs": [],
   "source": [
    "from tensorflow.keras.models import Sequential"
   ]
  },
  {
   "cell_type": "code",
   "execution_count": 56,
   "metadata": {},
   "outputs": [],
   "source": [
    "from tensorflow.keras.layers import Embedding,Dense, LSTM, Bidirectional"
   ]
  },
  {
   "cell_type": "code",
   "execution_count": 57,
   "metadata": {},
   "outputs": [],
   "source": [
    "model =Sequential()"
   ]
  },
  {
   "cell_type": "code",
   "execution_count": 58,
   "metadata": {},
   "outputs": [],
   "source": [
    "model.add(Embedding(276, 32, input_length =17 ))"
   ]
  },
  {
   "cell_type": "code",
   "execution_count": 59,
   "metadata": {},
   "outputs": [],
   "source": [
    "model.add(Bidirectional(LSTM(32)))"
   ]
  },
  {
   "cell_type": "code",
   "execution_count": 60,
   "metadata": {},
   "outputs": [],
   "source": [
    "model.add(Dense(32, activation='relu', kernel_regularizer= 'l2'))"
   ]
  },
  {
   "cell_type": "code",
   "execution_count": 61,
   "metadata": {},
   "outputs": [],
   "source": [
    "model.add(Dense(16, activation = 'relu',kernel_regularizer= 'l2'))"
   ]
  },
  {
   "cell_type": "code",
   "execution_count": 62,
   "metadata": {},
   "outputs": [],
   "source": [
    "model.add(Dense(8, activation = 'relu',kernel_regularizer= 'l2'))"
   ]
  },
  {
   "cell_type": "code",
   "execution_count": 63,
   "metadata": {},
   "outputs": [],
   "source": [
    "model.add(Dense(8, activation = 'relu',kernel_regularizer= 'l2'))"
   ]
  },
  {
   "cell_type": "code",
   "execution_count": 64,
   "metadata": {},
   "outputs": [],
   "source": [
    "model.add(Dense(5, activation='softmax'))"
   ]
  },
  {
   "cell_type": "code",
   "execution_count": 65,
   "metadata": {},
   "outputs": [],
   "source": [
    "model.compile(loss= 'sparse_categorical_crossentropy', optimizer = 'adam', metrics=['accuracy'])"
   ]
  },
  {
   "cell_type": "code",
   "execution_count": 66,
   "metadata": {},
   "outputs": [],
   "source": [
    "num_epochs = 45"
   ]
  },
  {
   "cell_type": "code",
   "execution_count": 67,
   "metadata": {},
   "outputs": [
    {
     "name": "stdout",
     "output_type": "stream",
     "text": [
      "Epoch 1/45\n",
      "WARNING:tensorflow:Model was constructed with shape (None, 17) for input KerasTensor(type_spec=TensorSpec(shape=(None, 17), dtype=tf.float32, name='embedding_input'), name='embedding_input', description=\"created by layer 'embedding_input'\"), but it was called on an input with incompatible shape (None, 16).\n",
      "27/27 - 25s - loss: 1.9566 - accuracy: 0.9095 - val_loss: 1.0754 - val_accuracy: 0.9292\n",
      "Epoch 2/45\n",
      "27/27 - 1s - loss: 1.0266 - accuracy: 0.9166 - val_loss: 0.8903 - val_accuracy: 0.9292\n",
      "Epoch 3/45\n",
      "27/27 - 1s - loss: 0.8627 - accuracy: 0.9166 - val_loss: 0.7233 - val_accuracy: 0.9292\n",
      "Epoch 4/45\n",
      "27/27 - 1s - loss: 0.6835 - accuracy: 0.9166 - val_loss: 0.5721 - val_accuracy: 0.9292\n",
      "Epoch 5/45\n",
      "27/27 - 1s - loss: 0.5030 - accuracy: 0.9166 - val_loss: 0.4514 - val_accuracy: 0.9292\n",
      "Epoch 6/45\n",
      "27/27 - 1s - loss: 0.4182 - accuracy: 0.9166 - val_loss: 0.3857 - val_accuracy: 0.9292\n",
      "Epoch 7/45\n",
      "27/27 - 1s - loss: 0.3674 - accuracy: 0.9166 - val_loss: 0.3420 - val_accuracy: 0.9292\n",
      "Epoch 8/45\n",
      "27/27 - 1s - loss: 0.3284 - accuracy: 0.9166 - val_loss: 0.3092 - val_accuracy: 0.9292\n",
      "Epoch 9/45\n",
      "27/27 - 1s - loss: 0.2971 - accuracy: 0.9166 - val_loss: 0.2840 - val_accuracy: 0.9292\n",
      "Epoch 10/45\n",
      "27/27 - 1s - loss: 0.2720 - accuracy: 0.9213 - val_loss: 0.2633 - val_accuracy: 0.9469\n",
      "Epoch 11/45\n",
      "27/27 - 1s - loss: 0.2516 - accuracy: 0.9530 - val_loss: 0.2445 - val_accuracy: 0.9513\n",
      "Epoch 12/45\n",
      "27/27 - 1s - loss: 0.2349 - accuracy: 0.9542 - val_loss: 0.2312 - val_accuracy: 0.9513\n",
      "Epoch 13/45\n",
      "27/27 - 1s - loss: 0.2210 - accuracy: 0.9553 - val_loss: 0.2192 - val_accuracy: 0.9513\n",
      "Epoch 14/45\n",
      "27/27 - 1s - loss: 0.2092 - accuracy: 0.9553 - val_loss: 0.2081 - val_accuracy: 0.9558\n",
      "Epoch 15/45\n",
      "27/27 - 1s - loss: 0.1992 - accuracy: 0.9553 - val_loss: 0.2000 - val_accuracy: 0.9558\n",
      "Epoch 16/45\n",
      "27/27 - 1s - loss: 0.1908 - accuracy: 0.9553 - val_loss: 0.1879 - val_accuracy: 0.9602\n",
      "Epoch 17/45\n",
      "27/27 - 1s - loss: 0.1835 - accuracy: 0.9553 - val_loss: 0.1875 - val_accuracy: 0.9558\n",
      "Epoch 18/45\n",
      "27/27 - 1s - loss: 0.1769 - accuracy: 0.9553 - val_loss: 0.1762 - val_accuracy: 0.9558\n",
      "Epoch 19/45\n",
      "27/27 - 1s - loss: 0.1712 - accuracy: 0.9553 - val_loss: 0.1720 - val_accuracy: 0.9558\n",
      "Epoch 20/45\n",
      "27/27 - 1s - loss: 0.1664 - accuracy: 0.9553 - val_loss: 0.1654 - val_accuracy: 0.9602\n",
      "Epoch 21/45\n",
      "27/27 - 1s - loss: 0.1620 - accuracy: 0.9553 - val_loss: 0.1658 - val_accuracy: 0.9602\n",
      "Epoch 22/45\n",
      "27/27 - 1s - loss: 0.1585 - accuracy: 0.9553 - val_loss: 0.1622 - val_accuracy: 0.9602\n",
      "Epoch 23/45\n",
      "27/27 - 1s - loss: 0.1549 - accuracy: 0.9553 - val_loss: 0.1552 - val_accuracy: 0.9602\n",
      "Epoch 24/45\n",
      "27/27 - 1s - loss: 0.1519 - accuracy: 0.9553 - val_loss: 0.1538 - val_accuracy: 0.9602\n",
      "Epoch 25/45\n",
      "27/27 - 1s - loss: 0.1494 - accuracy: 0.9553 - val_loss: 0.1515 - val_accuracy: 0.9602\n",
      "Epoch 26/45\n",
      "27/27 - 1s - loss: 0.1472 - accuracy: 0.9553 - val_loss: 0.1493 - val_accuracy: 0.9602\n",
      "Epoch 27/45\n",
      "27/27 - 1s - loss: 0.1450 - accuracy: 0.9553 - val_loss: 0.1478 - val_accuracy: 0.9602\n",
      "Epoch 28/45\n",
      "27/27 - 1s - loss: 0.1431 - accuracy: 0.9553 - val_loss: 0.1459 - val_accuracy: 0.9602\n",
      "Epoch 29/45\n",
      "27/27 - 1s - loss: 0.1413 - accuracy: 0.9553 - val_loss: 0.1452 - val_accuracy: 0.9602\n",
      "Epoch 30/45\n",
      "27/27 - 1s - loss: 0.1398 - accuracy: 0.9553 - val_loss: 0.1395 - val_accuracy: 0.9602\n",
      "Epoch 31/45\n",
      "27/27 - 1s - loss: 0.1384 - accuracy: 0.9553 - val_loss: 0.1378 - val_accuracy: 0.9602\n",
      "Epoch 32/45\n",
      "27/27 - 1s - loss: 0.1371 - accuracy: 0.9553 - val_loss: 0.1374 - val_accuracy: 0.9602\n",
      "Epoch 33/45\n",
      "27/27 - 1s - loss: 0.1359 - accuracy: 0.9553 - val_loss: 0.1370 - val_accuracy: 0.9602\n",
      "Epoch 34/45\n",
      "27/27 - 1s - loss: 0.1348 - accuracy: 0.9553 - val_loss: 0.1366 - val_accuracy: 0.9602\n",
      "Epoch 35/45\n",
      "27/27 - 1s - loss: 0.1335 - accuracy: 0.9553 - val_loss: 0.1368 - val_accuracy: 0.9602\n",
      "Epoch 36/45\n",
      "27/27 - 1s - loss: 0.1325 - accuracy: 0.9553 - val_loss: 0.1372 - val_accuracy: 0.9602\n",
      "Epoch 37/45\n",
      "27/27 - 1s - loss: 0.1316 - accuracy: 0.9553 - val_loss: 0.1371 - val_accuracy: 0.9602\n",
      "Epoch 38/45\n",
      "27/27 - 1s - loss: 0.1308 - accuracy: 0.9553 - val_loss: 0.1404 - val_accuracy: 0.9602\n",
      "Epoch 39/45\n",
      "27/27 - 1s - loss: 0.1297 - accuracy: 0.9553 - val_loss: 0.1348 - val_accuracy: 0.9602\n",
      "Epoch 40/45\n",
      "27/27 - 1s - loss: 0.1290 - accuracy: 0.9553 - val_loss: 0.1357 - val_accuracy: 0.9602\n",
      "Epoch 41/45\n",
      "27/27 - 1s - loss: 0.1283 - accuracy: 0.9553 - val_loss: 0.1343 - val_accuracy: 0.9602\n",
      "Epoch 42/45\n",
      "27/27 - 1s - loss: 0.1276 - accuracy: 0.9553 - val_loss: 0.1331 - val_accuracy: 0.9602\n",
      "Epoch 43/45\n",
      "27/27 - 1s - loss: 0.1268 - accuracy: 0.9553 - val_loss: 0.1355 - val_accuracy: 0.9602\n",
      "Epoch 44/45\n",
      "27/27 - 1s - loss: 0.1260 - accuracy: 0.9553 - val_loss: 0.1330 - val_accuracy: 0.9602\n",
      "Epoch 45/45\n",
      "27/27 - 1s - loss: 0.1256 - accuracy: 0.9553 - val_loss: 0.1320 - val_accuracy: 0.9602\n"
     ]
    }
   ],
   "source": [
    "\n",
    "history = model.fit(training_padded, training_labels, epochs= num_epochs, validation_data=(testing_padded, testing_labels), verbose=2)"
   ]
  },
  {
   "cell_type": "code",
   "execution_count": 69,
   "metadata": {},
   "outputs": [],
   "source": [
    "losses = pd.DataFrame(model.history.history)"
   ]
  },
  {
   "cell_type": "code",
   "execution_count": 70,
   "metadata": {},
   "outputs": [
    {
     "data": {
      "text/html": [
       "<div>\n",
       "<style scoped>\n",
       "    .dataframe tbody tr th:only-of-type {\n",
       "        vertical-align: middle;\n",
       "    }\n",
       "\n",
       "    .dataframe tbody tr th {\n",
       "        vertical-align: top;\n",
       "    }\n",
       "\n",
       "    .dataframe thead th {\n",
       "        text-align: right;\n",
       "    }\n",
       "</style>\n",
       "<table border=\"1\" class=\"dataframe\">\n",
       "  <thead>\n",
       "    <tr style=\"text-align: right;\">\n",
       "      <th></th>\n",
       "      <th>loss</th>\n",
       "      <th>accuracy</th>\n",
       "      <th>val_loss</th>\n",
       "      <th>val_accuracy</th>\n",
       "    </tr>\n",
       "  </thead>\n",
       "  <tbody>\n",
       "    <tr>\n",
       "      <th>0</th>\n",
       "      <td>1.956618</td>\n",
       "      <td>0.909518</td>\n",
       "      <td>1.075353</td>\n",
       "      <td>0.929204</td>\n",
       "    </tr>\n",
       "    <tr>\n",
       "      <th>1</th>\n",
       "      <td>1.026627</td>\n",
       "      <td>0.916569</td>\n",
       "      <td>0.890318</td>\n",
       "      <td>0.929204</td>\n",
       "    </tr>\n",
       "    <tr>\n",
       "      <th>2</th>\n",
       "      <td>0.862656</td>\n",
       "      <td>0.916569</td>\n",
       "      <td>0.723251</td>\n",
       "      <td>0.929204</td>\n",
       "    </tr>\n",
       "    <tr>\n",
       "      <th>3</th>\n",
       "      <td>0.683515</td>\n",
       "      <td>0.916569</td>\n",
       "      <td>0.572089</td>\n",
       "      <td>0.929204</td>\n",
       "    </tr>\n",
       "    <tr>\n",
       "      <th>4</th>\n",
       "      <td>0.502964</td>\n",
       "      <td>0.916569</td>\n",
       "      <td>0.451418</td>\n",
       "      <td>0.929204</td>\n",
       "    </tr>\n",
       "    <tr>\n",
       "      <th>5</th>\n",
       "      <td>0.418152</td>\n",
       "      <td>0.916569</td>\n",
       "      <td>0.385696</td>\n",
       "      <td>0.929204</td>\n",
       "    </tr>\n",
       "    <tr>\n",
       "      <th>6</th>\n",
       "      <td>0.367437</td>\n",
       "      <td>0.916569</td>\n",
       "      <td>0.341963</td>\n",
       "      <td>0.929204</td>\n",
       "    </tr>\n",
       "    <tr>\n",
       "      <th>7</th>\n",
       "      <td>0.328374</td>\n",
       "      <td>0.916569</td>\n",
       "      <td>0.309182</td>\n",
       "      <td>0.929204</td>\n",
       "    </tr>\n",
       "    <tr>\n",
       "      <th>8</th>\n",
       "      <td>0.297103</td>\n",
       "      <td>0.916569</td>\n",
       "      <td>0.283952</td>\n",
       "      <td>0.929204</td>\n",
       "    </tr>\n",
       "    <tr>\n",
       "      <th>9</th>\n",
       "      <td>0.272023</td>\n",
       "      <td>0.921269</td>\n",
       "      <td>0.263336</td>\n",
       "      <td>0.946903</td>\n",
       "    </tr>\n",
       "    <tr>\n",
       "      <th>10</th>\n",
       "      <td>0.251580</td>\n",
       "      <td>0.952996</td>\n",
       "      <td>0.244502</td>\n",
       "      <td>0.951327</td>\n",
       "    </tr>\n",
       "    <tr>\n",
       "      <th>11</th>\n",
       "      <td>0.234859</td>\n",
       "      <td>0.954172</td>\n",
       "      <td>0.231192</td>\n",
       "      <td>0.951327</td>\n",
       "    </tr>\n",
       "    <tr>\n",
       "      <th>12</th>\n",
       "      <td>0.220998</td>\n",
       "      <td>0.955347</td>\n",
       "      <td>0.219168</td>\n",
       "      <td>0.951327</td>\n",
       "    </tr>\n",
       "    <tr>\n",
       "      <th>13</th>\n",
       "      <td>0.209203</td>\n",
       "      <td>0.955347</td>\n",
       "      <td>0.208116</td>\n",
       "      <td>0.955752</td>\n",
       "    </tr>\n",
       "    <tr>\n",
       "      <th>14</th>\n",
       "      <td>0.199197</td>\n",
       "      <td>0.955347</td>\n",
       "      <td>0.199976</td>\n",
       "      <td>0.955752</td>\n",
       "    </tr>\n",
       "    <tr>\n",
       "      <th>15</th>\n",
       "      <td>0.190793</td>\n",
       "      <td>0.955347</td>\n",
       "      <td>0.187930</td>\n",
       "      <td>0.960177</td>\n",
       "    </tr>\n",
       "    <tr>\n",
       "      <th>16</th>\n",
       "      <td>0.183504</td>\n",
       "      <td>0.955347</td>\n",
       "      <td>0.187493</td>\n",
       "      <td>0.955752</td>\n",
       "    </tr>\n",
       "    <tr>\n",
       "      <th>17</th>\n",
       "      <td>0.176851</td>\n",
       "      <td>0.955347</td>\n",
       "      <td>0.176211</td>\n",
       "      <td>0.955752</td>\n",
       "    </tr>\n",
       "    <tr>\n",
       "      <th>18</th>\n",
       "      <td>0.171186</td>\n",
       "      <td>0.955347</td>\n",
       "      <td>0.172030</td>\n",
       "      <td>0.955752</td>\n",
       "    </tr>\n",
       "    <tr>\n",
       "      <th>19</th>\n",
       "      <td>0.166431</td>\n",
       "      <td>0.955347</td>\n",
       "      <td>0.165417</td>\n",
       "      <td>0.960177</td>\n",
       "    </tr>\n",
       "    <tr>\n",
       "      <th>20</th>\n",
       "      <td>0.162036</td>\n",
       "      <td>0.955347</td>\n",
       "      <td>0.165752</td>\n",
       "      <td>0.960177</td>\n",
       "    </tr>\n",
       "    <tr>\n",
       "      <th>21</th>\n",
       "      <td>0.158525</td>\n",
       "      <td>0.955347</td>\n",
       "      <td>0.162164</td>\n",
       "      <td>0.960177</td>\n",
       "    </tr>\n",
       "    <tr>\n",
       "      <th>22</th>\n",
       "      <td>0.154946</td>\n",
       "      <td>0.955347</td>\n",
       "      <td>0.155224</td>\n",
       "      <td>0.960177</td>\n",
       "    </tr>\n",
       "    <tr>\n",
       "      <th>23</th>\n",
       "      <td>0.151880</td>\n",
       "      <td>0.955347</td>\n",
       "      <td>0.153820</td>\n",
       "      <td>0.960177</td>\n",
       "    </tr>\n",
       "    <tr>\n",
       "      <th>24</th>\n",
       "      <td>0.149376</td>\n",
       "      <td>0.955347</td>\n",
       "      <td>0.151519</td>\n",
       "      <td>0.960177</td>\n",
       "    </tr>\n",
       "    <tr>\n",
       "      <th>25</th>\n",
       "      <td>0.147156</td>\n",
       "      <td>0.955347</td>\n",
       "      <td>0.149276</td>\n",
       "      <td>0.960177</td>\n",
       "    </tr>\n",
       "    <tr>\n",
       "      <th>26</th>\n",
       "      <td>0.145004</td>\n",
       "      <td>0.955347</td>\n",
       "      <td>0.147756</td>\n",
       "      <td>0.960177</td>\n",
       "    </tr>\n",
       "    <tr>\n",
       "      <th>27</th>\n",
       "      <td>0.143078</td>\n",
       "      <td>0.955347</td>\n",
       "      <td>0.145939</td>\n",
       "      <td>0.960177</td>\n",
       "    </tr>\n",
       "    <tr>\n",
       "      <th>28</th>\n",
       "      <td>0.141336</td>\n",
       "      <td>0.955347</td>\n",
       "      <td>0.145219</td>\n",
       "      <td>0.960177</td>\n",
       "    </tr>\n",
       "    <tr>\n",
       "      <th>29</th>\n",
       "      <td>0.139802</td>\n",
       "      <td>0.955347</td>\n",
       "      <td>0.139516</td>\n",
       "      <td>0.960177</td>\n",
       "    </tr>\n",
       "    <tr>\n",
       "      <th>30</th>\n",
       "      <td>0.138399</td>\n",
       "      <td>0.955347</td>\n",
       "      <td>0.137783</td>\n",
       "      <td>0.960177</td>\n",
       "    </tr>\n",
       "    <tr>\n",
       "      <th>31</th>\n",
       "      <td>0.137056</td>\n",
       "      <td>0.955347</td>\n",
       "      <td>0.137416</td>\n",
       "      <td>0.960177</td>\n",
       "    </tr>\n",
       "    <tr>\n",
       "      <th>32</th>\n",
       "      <td>0.135873</td>\n",
       "      <td>0.955347</td>\n",
       "      <td>0.137038</td>\n",
       "      <td>0.960177</td>\n",
       "    </tr>\n",
       "    <tr>\n",
       "      <th>33</th>\n",
       "      <td>0.134807</td>\n",
       "      <td>0.955347</td>\n",
       "      <td>0.136594</td>\n",
       "      <td>0.960177</td>\n",
       "    </tr>\n",
       "    <tr>\n",
       "      <th>34</th>\n",
       "      <td>0.133489</td>\n",
       "      <td>0.955347</td>\n",
       "      <td>0.136798</td>\n",
       "      <td>0.960177</td>\n",
       "    </tr>\n",
       "    <tr>\n",
       "      <th>35</th>\n",
       "      <td>0.132473</td>\n",
       "      <td>0.955347</td>\n",
       "      <td>0.137165</td>\n",
       "      <td>0.960177</td>\n",
       "    </tr>\n",
       "    <tr>\n",
       "      <th>36</th>\n",
       "      <td>0.131566</td>\n",
       "      <td>0.955347</td>\n",
       "      <td>0.137072</td>\n",
       "      <td>0.960177</td>\n",
       "    </tr>\n",
       "    <tr>\n",
       "      <th>37</th>\n",
       "      <td>0.130831</td>\n",
       "      <td>0.955347</td>\n",
       "      <td>0.140359</td>\n",
       "      <td>0.960177</td>\n",
       "    </tr>\n",
       "    <tr>\n",
       "      <th>38</th>\n",
       "      <td>0.129715</td>\n",
       "      <td>0.955347</td>\n",
       "      <td>0.134807</td>\n",
       "      <td>0.960177</td>\n",
       "    </tr>\n",
       "    <tr>\n",
       "      <th>39</th>\n",
       "      <td>0.128978</td>\n",
       "      <td>0.955347</td>\n",
       "      <td>0.135667</td>\n",
       "      <td>0.960177</td>\n",
       "    </tr>\n",
       "    <tr>\n",
       "      <th>40</th>\n",
       "      <td>0.128342</td>\n",
       "      <td>0.955347</td>\n",
       "      <td>0.134304</td>\n",
       "      <td>0.960177</td>\n",
       "    </tr>\n",
       "    <tr>\n",
       "      <th>41</th>\n",
       "      <td>0.127568</td>\n",
       "      <td>0.955347</td>\n",
       "      <td>0.133061</td>\n",
       "      <td>0.960177</td>\n",
       "    </tr>\n",
       "    <tr>\n",
       "      <th>42</th>\n",
       "      <td>0.126783</td>\n",
       "      <td>0.955347</td>\n",
       "      <td>0.135491</td>\n",
       "      <td>0.960177</td>\n",
       "    </tr>\n",
       "    <tr>\n",
       "      <th>43</th>\n",
       "      <td>0.126038</td>\n",
       "      <td>0.955347</td>\n",
       "      <td>0.133021</td>\n",
       "      <td>0.960177</td>\n",
       "    </tr>\n",
       "    <tr>\n",
       "      <th>44</th>\n",
       "      <td>0.125572</td>\n",
       "      <td>0.955347</td>\n",
       "      <td>0.132036</td>\n",
       "      <td>0.960177</td>\n",
       "    </tr>\n",
       "  </tbody>\n",
       "</table>\n",
       "</div>"
      ],
      "text/plain": [
       "        loss  accuracy  val_loss  val_accuracy\n",
       "0   1.956618  0.909518  1.075353      0.929204\n",
       "1   1.026627  0.916569  0.890318      0.929204\n",
       "2   0.862656  0.916569  0.723251      0.929204\n",
       "3   0.683515  0.916569  0.572089      0.929204\n",
       "4   0.502964  0.916569  0.451418      0.929204\n",
       "5   0.418152  0.916569  0.385696      0.929204\n",
       "6   0.367437  0.916569  0.341963      0.929204\n",
       "7   0.328374  0.916569  0.309182      0.929204\n",
       "8   0.297103  0.916569  0.283952      0.929204\n",
       "9   0.272023  0.921269  0.263336      0.946903\n",
       "10  0.251580  0.952996  0.244502      0.951327\n",
       "11  0.234859  0.954172  0.231192      0.951327\n",
       "12  0.220998  0.955347  0.219168      0.951327\n",
       "13  0.209203  0.955347  0.208116      0.955752\n",
       "14  0.199197  0.955347  0.199976      0.955752\n",
       "15  0.190793  0.955347  0.187930      0.960177\n",
       "16  0.183504  0.955347  0.187493      0.955752\n",
       "17  0.176851  0.955347  0.176211      0.955752\n",
       "18  0.171186  0.955347  0.172030      0.955752\n",
       "19  0.166431  0.955347  0.165417      0.960177\n",
       "20  0.162036  0.955347  0.165752      0.960177\n",
       "21  0.158525  0.955347  0.162164      0.960177\n",
       "22  0.154946  0.955347  0.155224      0.960177\n",
       "23  0.151880  0.955347  0.153820      0.960177\n",
       "24  0.149376  0.955347  0.151519      0.960177\n",
       "25  0.147156  0.955347  0.149276      0.960177\n",
       "26  0.145004  0.955347  0.147756      0.960177\n",
       "27  0.143078  0.955347  0.145939      0.960177\n",
       "28  0.141336  0.955347  0.145219      0.960177\n",
       "29  0.139802  0.955347  0.139516      0.960177\n",
       "30  0.138399  0.955347  0.137783      0.960177\n",
       "31  0.137056  0.955347  0.137416      0.960177\n",
       "32  0.135873  0.955347  0.137038      0.960177\n",
       "33  0.134807  0.955347  0.136594      0.960177\n",
       "34  0.133489  0.955347  0.136798      0.960177\n",
       "35  0.132473  0.955347  0.137165      0.960177\n",
       "36  0.131566  0.955347  0.137072      0.960177\n",
       "37  0.130831  0.955347  0.140359      0.960177\n",
       "38  0.129715  0.955347  0.134807      0.960177\n",
       "39  0.128978  0.955347  0.135667      0.960177\n",
       "40  0.128342  0.955347  0.134304      0.960177\n",
       "41  0.127568  0.955347  0.133061      0.960177\n",
       "42  0.126783  0.955347  0.135491      0.960177\n",
       "43  0.126038  0.955347  0.133021      0.960177\n",
       "44  0.125572  0.955347  0.132036      0.960177"
      ]
     },
     "execution_count": 70,
     "metadata": {},
     "output_type": "execute_result"
    }
   ],
   "source": [
    "losses"
   ]
  },
  {
   "cell_type": "code",
   "execution_count": 82,
   "metadata": {},
   "outputs": [],
   "source": [
    "accuracy = losses[['accuracy', 'val_accuracy']]"
   ]
  },
  {
   "cell_type": "code",
   "execution_count": 83,
   "metadata": {},
   "outputs": [
    {
     "data": {
      "text/plain": [
       "<AxesSubplot:>"
      ]
     },
     "execution_count": 83,
     "metadata": {},
     "output_type": "execute_result"
    },
    {
     "data": {
      "image/png": "[encoded data removed]",
      "text/plain": [
       "<Figure size 432x288 with 1 Axes>"
      ]
     },
     "metadata": {
      "needs_background": "light"
     },
     "output_type": "display_data"
    }
   ],
   "source": [
    "accuracy.plot()"
   ]
  },
  {
   "cell_type": "code",
   "execution_count": 80,
   "metadata": {},
   "outputs": [],
   "source": [
    "loss = losses[['loss', 'val_loss']]"
   ]
  },
  {
   "cell_type": "code",
   "execution_count": 84,
   "metadata": {},
   "outputs": [
    {
     "data": {
      "text/plain": [
       "<AxesSubplot:>"
      ]
     },
     "execution_count": 84,
     "metadata": {},
     "output_type": "execute_result"
    },
    {
     "data": {
      "image/png": "[encoded data removed]",
      "text/plain": [
       "<Figure size 432x288 with 1 Axes>"
      ]
     },
     "metadata": {
      "needs_background": "light"
     },
     "output_type": "display_data"
    }
   ],
   "source": [
    "loss.plot()"
   ]
  },
  {
   "cell_type": "code",
   "execution_count": 85,
   "metadata": {},
   "outputs": [],
   "source": [
    "model.save('sentiment_with_scrape.h5')"
   ]
  },
  {
   "cell_type": "code",
   "execution_count": null,
   "metadata": {},
   "outputs": [],
   "source": []
  }
 ],
 "metadata": {
  "kernelspec": {
   "display_name": "Python 3",
   "language": "python",
   "name": "python3"
  },
  "language_info": {
   "codemirror_mode": {
    "name": "ipython",
    "version": 3
   },
   "file_extension": ".py",
   "mimetype": "text/x-python",
   "name": "python",
   "nbconvert_exporter": "python",
   "pygments_lexer": "ipython3",
   "version": "3.8.5"
  }
 },
 "nbformat": 4,
 "nbformat_minor": 4
}
